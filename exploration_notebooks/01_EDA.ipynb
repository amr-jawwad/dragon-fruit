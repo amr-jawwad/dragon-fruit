{
 "cells": [
  {
   "cell_type": "markdown",
   "metadata": {},
   "source": [
    "# Config"
   ]
  },
  {
   "cell_type": "code",
   "execution_count": 1,
   "metadata": {},
   "outputs": [],
   "source": [
    "COUNT_FAILED_ORDERS = True"
   ]
  },
  {
   "cell_type": "markdown",
   "metadata": {},
   "source": [
    "# Imports"
   ]
  },
  {
   "cell_type": "code",
   "execution_count": 2,
   "metadata": {},
   "outputs": [],
   "source": [
    "import pandas as pd\n",
    "\n",
    "import sys\n",
    "sys.path.append(\"..\") #There are better ways to do this\n",
    "from calculation_functions.CalculateTimeToNextOrder import CalculateTimeToNextOrder\n",
    "\n",
    "import matplotlib.pyplot as plt\n",
    "\n",
    "%matplotlib inline"
   ]
  },
  {
   "cell_type": "markdown",
   "metadata": {},
   "source": [
    "# Reading Data"
   ]
  },
  {
   "cell_type": "code",
   "execution_count": 3,
   "metadata": {},
   "outputs": [
    {
     "data": {
      "text/html": [
       "<div>\n",
       "<style scoped>\n",
       "    .dataframe tbody tr th:only-of-type {\n",
       "        vertical-align: middle;\n",
       "    }\n",
       "\n",
       "    .dataframe tbody tr th {\n",
       "        vertical-align: top;\n",
       "    }\n",
       "\n",
       "    .dataframe thead th {\n",
       "        text-align: right;\n",
       "    }\n",
       "</style>\n",
       "<table border=\"1\" class=\"dataframe\">\n",
       "  <thead>\n",
       "    <tr style=\"text-align: right;\">\n",
       "      <th></th>\n",
       "      <th>customer_id</th>\n",
       "      <th>order_date</th>\n",
       "      <th>order_hour</th>\n",
       "      <th>customer_order_rank</th>\n",
       "      <th>is_failed</th>\n",
       "      <th>voucher_amount</th>\n",
       "      <th>delivery_fee</th>\n",
       "      <th>amount_paid</th>\n",
       "      <th>restaurant_id</th>\n",
       "      <th>city_id</th>\n",
       "      <th>payment_id</th>\n",
       "      <th>platform_id</th>\n",
       "      <th>transmission_id</th>\n",
       "    </tr>\n",
       "  </thead>\n",
       "  <tbody>\n",
       "    <tr>\n",
       "      <th>0</th>\n",
       "      <td>000097eabfd9</td>\n",
       "      <td>2015-06-20</td>\n",
       "      <td>19</td>\n",
       "      <td>1.0</td>\n",
       "      <td>0</td>\n",
       "      <td>0.0</td>\n",
       "      <td>0.000</td>\n",
       "      <td>11.46960</td>\n",
       "      <td>5803498</td>\n",
       "      <td>20326</td>\n",
       "      <td>1779</td>\n",
       "      <td>30231</td>\n",
       "      <td>4356</td>\n",
       "    </tr>\n",
       "    <tr>\n",
       "      <th>1</th>\n",
       "      <td>0000e2c6d9be</td>\n",
       "      <td>2016-01-29</td>\n",
       "      <td>20</td>\n",
       "      <td>1.0</td>\n",
       "      <td>0</td>\n",
       "      <td>0.0</td>\n",
       "      <td>0.000</td>\n",
       "      <td>9.55800</td>\n",
       "      <td>239303498</td>\n",
       "      <td>76547</td>\n",
       "      <td>1619</td>\n",
       "      <td>30359</td>\n",
       "      <td>4356</td>\n",
       "    </tr>\n",
       "    <tr>\n",
       "      <th>2</th>\n",
       "      <td>000133bb597f</td>\n",
       "      <td>2017-02-26</td>\n",
       "      <td>19</td>\n",
       "      <td>1.0</td>\n",
       "      <td>0</td>\n",
       "      <td>0.0</td>\n",
       "      <td>0.493</td>\n",
       "      <td>5.93658</td>\n",
       "      <td>206463498</td>\n",
       "      <td>33833</td>\n",
       "      <td>1619</td>\n",
       "      <td>30359</td>\n",
       "      <td>4324</td>\n",
       "    </tr>\n",
       "    <tr>\n",
       "      <th>3</th>\n",
       "      <td>00018269939b</td>\n",
       "      <td>2017-02-05</td>\n",
       "      <td>17</td>\n",
       "      <td>1.0</td>\n",
       "      <td>0</td>\n",
       "      <td>0.0</td>\n",
       "      <td>0.493</td>\n",
       "      <td>9.82350</td>\n",
       "      <td>36613498</td>\n",
       "      <td>99315</td>\n",
       "      <td>1619</td>\n",
       "      <td>30359</td>\n",
       "      <td>4356</td>\n",
       "    </tr>\n",
       "    <tr>\n",
       "      <th>4</th>\n",
       "      <td>0001a00468a6</td>\n",
       "      <td>2015-08-04</td>\n",
       "      <td>19</td>\n",
       "      <td>1.0</td>\n",
       "      <td>0</td>\n",
       "      <td>0.0</td>\n",
       "      <td>0.493</td>\n",
       "      <td>5.15070</td>\n",
       "      <td>225853498</td>\n",
       "      <td>16456</td>\n",
       "      <td>1619</td>\n",
       "      <td>29463</td>\n",
       "      <td>4356</td>\n",
       "    </tr>\n",
       "    <tr>\n",
       "      <th>...</th>\n",
       "      <td>...</td>\n",
       "      <td>...</td>\n",
       "      <td>...</td>\n",
       "      <td>...</td>\n",
       "      <td>...</td>\n",
       "      <td>...</td>\n",
       "      <td>...</td>\n",
       "      <td>...</td>\n",
       "      <td>...</td>\n",
       "      <td>...</td>\n",
       "      <td>...</td>\n",
       "      <td>...</td>\n",
       "      <td>...</td>\n",
       "    </tr>\n",
       "    <tr>\n",
       "      <th>786595</th>\n",
       "      <td>fffe9d5a8d41</td>\n",
       "      <td>2016-09-30</td>\n",
       "      <td>20</td>\n",
       "      <td>NaN</td>\n",
       "      <td>1</td>\n",
       "      <td>0.0</td>\n",
       "      <td>0.000</td>\n",
       "      <td>10.72620</td>\n",
       "      <td>983498</td>\n",
       "      <td>10346</td>\n",
       "      <td>1779</td>\n",
       "      <td>29463</td>\n",
       "      <td>212</td>\n",
       "    </tr>\n",
       "    <tr>\n",
       "      <th>786596</th>\n",
       "      <td>ffff347c3cfa</td>\n",
       "      <td>2016-08-17</td>\n",
       "      <td>21</td>\n",
       "      <td>1.0</td>\n",
       "      <td>0</td>\n",
       "      <td>0.0</td>\n",
       "      <td>0.000</td>\n",
       "      <td>7.59330</td>\n",
       "      <td>52893498</td>\n",
       "      <td>41978</td>\n",
       "      <td>1619</td>\n",
       "      <td>30359</td>\n",
       "      <td>4356</td>\n",
       "    </tr>\n",
       "    <tr>\n",
       "      <th>786597</th>\n",
       "      <td>ffff347c3cfa</td>\n",
       "      <td>2016-09-15</td>\n",
       "      <td>21</td>\n",
       "      <td>2.0</td>\n",
       "      <td>0</td>\n",
       "      <td>0.0</td>\n",
       "      <td>0.000</td>\n",
       "      <td>5.94720</td>\n",
       "      <td>164653498</td>\n",
       "      <td>41978</td>\n",
       "      <td>1619</td>\n",
       "      <td>30359</td>\n",
       "      <td>4356</td>\n",
       "    </tr>\n",
       "    <tr>\n",
       "      <th>786598</th>\n",
       "      <td>ffff4519b52d</td>\n",
       "      <td>2016-04-02</td>\n",
       "      <td>19</td>\n",
       "      <td>1.0</td>\n",
       "      <td>0</td>\n",
       "      <td>0.0</td>\n",
       "      <td>0.000</td>\n",
       "      <td>21.77100</td>\n",
       "      <td>16363498</td>\n",
       "      <td>80562</td>\n",
       "      <td>1491</td>\n",
       "      <td>29751</td>\n",
       "      <td>4228</td>\n",
       "    </tr>\n",
       "    <tr>\n",
       "      <th>786599</th>\n",
       "      <td>ffffccbfc8a4</td>\n",
       "      <td>2015-05-30</td>\n",
       "      <td>20</td>\n",
       "      <td>1.0</td>\n",
       "      <td>0</td>\n",
       "      <td>0.0</td>\n",
       "      <td>0.000</td>\n",
       "      <td>16.46100</td>\n",
       "      <td>150293498</td>\n",
       "      <td>45952</td>\n",
       "      <td>1619</td>\n",
       "      <td>29463</td>\n",
       "      <td>4324</td>\n",
       "    </tr>\n",
       "  </tbody>\n",
       "</table>\n",
       "<p>786600 rows × 13 columns</p>\n",
       "</div>"
      ],
      "text/plain": [
       "         customer_id  order_date  order_hour  customer_order_rank  is_failed  \\\n",
       "0       000097eabfd9  2015-06-20          19                  1.0          0   \n",
       "1       0000e2c6d9be  2016-01-29          20                  1.0          0   \n",
       "2       000133bb597f  2017-02-26          19                  1.0          0   \n",
       "3       00018269939b  2017-02-05          17                  1.0          0   \n",
       "4       0001a00468a6  2015-08-04          19                  1.0          0   \n",
       "...              ...         ...         ...                  ...        ...   \n",
       "786595  fffe9d5a8d41  2016-09-30          20                  NaN          1   \n",
       "786596  ffff347c3cfa  2016-08-17          21                  1.0          0   \n",
       "786597  ffff347c3cfa  2016-09-15          21                  2.0          0   \n",
       "786598  ffff4519b52d  2016-04-02          19                  1.0          0   \n",
       "786599  ffffccbfc8a4  2015-05-30          20                  1.0          0   \n",
       "\n",
       "        voucher_amount  delivery_fee  amount_paid  restaurant_id  city_id  \\\n",
       "0                  0.0         0.000     11.46960        5803498    20326   \n",
       "1                  0.0         0.000      9.55800      239303498    76547   \n",
       "2                  0.0         0.493      5.93658      206463498    33833   \n",
       "3                  0.0         0.493      9.82350       36613498    99315   \n",
       "4                  0.0         0.493      5.15070      225853498    16456   \n",
       "...                ...           ...          ...            ...      ...   \n",
       "786595             0.0         0.000     10.72620         983498    10346   \n",
       "786596             0.0         0.000      7.59330       52893498    41978   \n",
       "786597             0.0         0.000      5.94720      164653498    41978   \n",
       "786598             0.0         0.000     21.77100       16363498    80562   \n",
       "786599             0.0         0.000     16.46100      150293498    45952   \n",
       "\n",
       "        payment_id  platform_id  transmission_id  \n",
       "0             1779        30231             4356  \n",
       "1             1619        30359             4356  \n",
       "2             1619        30359             4324  \n",
       "3             1619        30359             4356  \n",
       "4             1619        29463             4356  \n",
       "...            ...          ...              ...  \n",
       "786595        1779        29463              212  \n",
       "786596        1619        30359             4356  \n",
       "786597        1619        30359             4356  \n",
       "786598        1491        29751             4228  \n",
       "786599        1619        29463             4324  \n",
       "\n",
       "[786600 rows x 13 columns]"
      ]
     },
     "execution_count": 3,
     "metadata": {},
     "output_type": "execute_result"
    }
   ],
   "source": [
    "Data = pd.read_csv(\"../data/machine_learning_challenge_order_data.csv.gz\")\n",
    "Data"
   ]
  },
  {
   "cell_type": "markdown",
   "metadata": {},
   "source": [
    "# Data Validation\n",
    "Checking if the data makes sense, or whether there are obvious errors\n",
    "### Type Check"
   ]
  },
  {
   "cell_type": "code",
   "execution_count": 4,
   "metadata": {},
   "outputs": [
    {
     "data": {
      "text/plain": [
       "customer_id             object\n",
       "order_date              object\n",
       "order_hour               int64\n",
       "customer_order_rank    float64\n",
       "is_failed                int64\n",
       "voucher_amount         float64\n",
       "delivery_fee           float64\n",
       "amount_paid            float64\n",
       "restaurant_id            int64\n",
       "city_id                  int64\n",
       "payment_id               int64\n",
       "platform_id              int64\n",
       "transmission_id          int64\n",
       "dtype: object"
      ]
     },
     "execution_count": 4,
     "metadata": {},
     "output_type": "execute_result"
    }
   ],
   "source": [
    "#Checking if datatypes make sense\n",
    "Data.dtypes\n",
    "\n",
    "#order_date -> to_datetime"
   ]
  },
  {
   "cell_type": "markdown",
   "metadata": {},
   "source": [
    "### NaN Check"
   ]
  },
  {
   "cell_type": "code",
   "execution_count": 5,
   "metadata": {},
   "outputs": [
    {
     "name": "stdout",
     "output_type": "stream",
     "text": [
      "<class 'pandas.core.frame.DataFrame'>\n",
      "RangeIndex: 786600 entries, 0 to 786599\n",
      "Data columns (total 13 columns):\n",
      " #   Column               Non-Null Count   Dtype  \n",
      "---  ------               --------------   -----  \n",
      " 0   customer_id          786600 non-null  object \n",
      " 1   order_date           786600 non-null  object \n",
      " 2   order_hour           786600 non-null  int64  \n",
      " 3   customer_order_rank  761833 non-null  float64\n",
      " 4   is_failed            786600 non-null  int64  \n",
      " 5   voucher_amount       786600 non-null  float64\n",
      " 6   delivery_fee         786600 non-null  float64\n",
      " 7   amount_paid          786600 non-null  float64\n",
      " 8   restaurant_id        786600 non-null  int64  \n",
      " 9   city_id              786600 non-null  int64  \n",
      " 10  payment_id           786600 non-null  int64  \n",
      " 11  platform_id          786600 non-null  int64  \n",
      " 12  transmission_id      786600 non-null  int64  \n",
      "dtypes: float64(4), int64(7), object(2)\n",
      "memory usage: 78.0+ MB\n"
     ]
    }
   ],
   "source": [
    "#Checking for unexpected NaNs\n",
    "Data.info()\n",
    "#NaNs only in customer_rank, which is expected"
   ]
  },
  {
   "cell_type": "markdown",
   "metadata": {},
   "source": [
    "### Distributions Check\n",
    "First we calculate the target variable:"
   ]
  },
  {
   "cell_type": "code",
   "execution_count": 6,
   "metadata": {},
   "outputs": [
    {
     "data": {
      "text/html": [
       "<div>\n",
       "<style scoped>\n",
       "    .dataframe tbody tr th:only-of-type {\n",
       "        vertical-align: middle;\n",
       "    }\n",
       "\n",
       "    .dataframe tbody tr th {\n",
       "        vertical-align: top;\n",
       "    }\n",
       "\n",
       "    .dataframe thead th {\n",
       "        text-align: right;\n",
       "    }\n",
       "</style>\n",
       "<table border=\"1\" class=\"dataframe\">\n",
       "  <thead>\n",
       "    <tr style=\"text-align: right;\">\n",
       "      <th></th>\n",
       "      <th>customer_id</th>\n",
       "      <th>order_date</th>\n",
       "      <th>order_hour</th>\n",
       "      <th>is_failed</th>\n",
       "      <th>voucher_amount</th>\n",
       "      <th>delivery_fee</th>\n",
       "      <th>amount_paid</th>\n",
       "      <th>restaurant_id</th>\n",
       "      <th>city_id</th>\n",
       "      <th>payment_id</th>\n",
       "      <th>platform_id</th>\n",
       "      <th>transmission_id</th>\n",
       "      <th>days_to_next_order</th>\n",
       "      <th>customer_order_rank</th>\n",
       "    </tr>\n",
       "  </thead>\n",
       "  <tbody>\n",
       "    <tr>\n",
       "      <th>0</th>\n",
       "      <td>000097eabfd9</td>\n",
       "      <td>2015-06-20</td>\n",
       "      <td>19</td>\n",
       "      <td>0</td>\n",
       "      <td>0.0</td>\n",
       "      <td>0.000</td>\n",
       "      <td>11.46960</td>\n",
       "      <td>5803498</td>\n",
       "      <td>20326</td>\n",
       "      <td>1779</td>\n",
       "      <td>30231</td>\n",
       "      <td>4356</td>\n",
       "      <td>NaN</td>\n",
       "      <td>1</td>\n",
       "    </tr>\n",
       "    <tr>\n",
       "      <th>1</th>\n",
       "      <td>0000e2c6d9be</td>\n",
       "      <td>2016-01-29</td>\n",
       "      <td>20</td>\n",
       "      <td>0</td>\n",
       "      <td>0.0</td>\n",
       "      <td>0.000</td>\n",
       "      <td>9.55800</td>\n",
       "      <td>239303498</td>\n",
       "      <td>76547</td>\n",
       "      <td>1619</td>\n",
       "      <td>30359</td>\n",
       "      <td>4356</td>\n",
       "      <td>NaN</td>\n",
       "      <td>1</td>\n",
       "    </tr>\n",
       "    <tr>\n",
       "      <th>2</th>\n",
       "      <td>000133bb597f</td>\n",
       "      <td>2017-02-26</td>\n",
       "      <td>19</td>\n",
       "      <td>0</td>\n",
       "      <td>0.0</td>\n",
       "      <td>0.493</td>\n",
       "      <td>5.93658</td>\n",
       "      <td>206463498</td>\n",
       "      <td>33833</td>\n",
       "      <td>1619</td>\n",
       "      <td>30359</td>\n",
       "      <td>4324</td>\n",
       "      <td>NaN</td>\n",
       "      <td>1</td>\n",
       "    </tr>\n",
       "    <tr>\n",
       "      <th>3</th>\n",
       "      <td>00018269939b</td>\n",
       "      <td>2017-02-05</td>\n",
       "      <td>17</td>\n",
       "      <td>0</td>\n",
       "      <td>0.0</td>\n",
       "      <td>0.493</td>\n",
       "      <td>9.82350</td>\n",
       "      <td>36613498</td>\n",
       "      <td>99315</td>\n",
       "      <td>1619</td>\n",
       "      <td>30359</td>\n",
       "      <td>4356</td>\n",
       "      <td>NaN</td>\n",
       "      <td>1</td>\n",
       "    </tr>\n",
       "    <tr>\n",
       "      <th>4</th>\n",
       "      <td>0001a00468a6</td>\n",
       "      <td>2015-08-04</td>\n",
       "      <td>19</td>\n",
       "      <td>0</td>\n",
       "      <td>0.0</td>\n",
       "      <td>0.493</td>\n",
       "      <td>5.15070</td>\n",
       "      <td>225853498</td>\n",
       "      <td>16456</td>\n",
       "      <td>1619</td>\n",
       "      <td>29463</td>\n",
       "      <td>4356</td>\n",
       "      <td>NaN</td>\n",
       "      <td>1</td>\n",
       "    </tr>\n",
       "    <tr>\n",
       "      <th>...</th>\n",
       "      <td>...</td>\n",
       "      <td>...</td>\n",
       "      <td>...</td>\n",
       "      <td>...</td>\n",
       "      <td>...</td>\n",
       "      <td>...</td>\n",
       "      <td>...</td>\n",
       "      <td>...</td>\n",
       "      <td>...</td>\n",
       "      <td>...</td>\n",
       "      <td>...</td>\n",
       "      <td>...</td>\n",
       "      <td>...</td>\n",
       "      <td>...</td>\n",
       "    </tr>\n",
       "    <tr>\n",
       "      <th>786595</th>\n",
       "      <td>fffe9d5a8d41</td>\n",
       "      <td>2016-09-30</td>\n",
       "      <td>20</td>\n",
       "      <td>1</td>\n",
       "      <td>0.0</td>\n",
       "      <td>0.000</td>\n",
       "      <td>10.72620</td>\n",
       "      <td>983498</td>\n",
       "      <td>10346</td>\n",
       "      <td>1779</td>\n",
       "      <td>29463</td>\n",
       "      <td>212</td>\n",
       "      <td>NaN</td>\n",
       "      <td>3</td>\n",
       "    </tr>\n",
       "    <tr>\n",
       "      <th>786596</th>\n",
       "      <td>ffff347c3cfa</td>\n",
       "      <td>2016-08-17</td>\n",
       "      <td>21</td>\n",
       "      <td>0</td>\n",
       "      <td>0.0</td>\n",
       "      <td>0.000</td>\n",
       "      <td>7.59330</td>\n",
       "      <td>52893498</td>\n",
       "      <td>41978</td>\n",
       "      <td>1619</td>\n",
       "      <td>30359</td>\n",
       "      <td>4356</td>\n",
       "      <td>29.0</td>\n",
       "      <td>1</td>\n",
       "    </tr>\n",
       "    <tr>\n",
       "      <th>786597</th>\n",
       "      <td>ffff347c3cfa</td>\n",
       "      <td>2016-09-15</td>\n",
       "      <td>21</td>\n",
       "      <td>0</td>\n",
       "      <td>0.0</td>\n",
       "      <td>0.000</td>\n",
       "      <td>5.94720</td>\n",
       "      <td>164653498</td>\n",
       "      <td>41978</td>\n",
       "      <td>1619</td>\n",
       "      <td>30359</td>\n",
       "      <td>4356</td>\n",
       "      <td>NaN</td>\n",
       "      <td>2</td>\n",
       "    </tr>\n",
       "    <tr>\n",
       "      <th>786598</th>\n",
       "      <td>ffff4519b52d</td>\n",
       "      <td>2016-04-02</td>\n",
       "      <td>19</td>\n",
       "      <td>0</td>\n",
       "      <td>0.0</td>\n",
       "      <td>0.000</td>\n",
       "      <td>21.77100</td>\n",
       "      <td>16363498</td>\n",
       "      <td>80562</td>\n",
       "      <td>1491</td>\n",
       "      <td>29751</td>\n",
       "      <td>4228</td>\n",
       "      <td>NaN</td>\n",
       "      <td>1</td>\n",
       "    </tr>\n",
       "    <tr>\n",
       "      <th>786599</th>\n",
       "      <td>ffffccbfc8a4</td>\n",
       "      <td>2015-05-30</td>\n",
       "      <td>20</td>\n",
       "      <td>0</td>\n",
       "      <td>0.0</td>\n",
       "      <td>0.000</td>\n",
       "      <td>16.46100</td>\n",
       "      <td>150293498</td>\n",
       "      <td>45952</td>\n",
       "      <td>1619</td>\n",
       "      <td>29463</td>\n",
       "      <td>4324</td>\n",
       "      <td>NaN</td>\n",
       "      <td>1</td>\n",
       "    </tr>\n",
       "  </tbody>\n",
       "</table>\n",
       "<p>786600 rows × 14 columns</p>\n",
       "</div>"
      ],
      "text/plain": [
       "         customer_id order_date  order_hour  is_failed  voucher_amount  \\\n",
       "0       000097eabfd9 2015-06-20          19          0             0.0   \n",
       "1       0000e2c6d9be 2016-01-29          20          0             0.0   \n",
       "2       000133bb597f 2017-02-26          19          0             0.0   \n",
       "3       00018269939b 2017-02-05          17          0             0.0   \n",
       "4       0001a00468a6 2015-08-04          19          0             0.0   \n",
       "...              ...        ...         ...        ...             ...   \n",
       "786595  fffe9d5a8d41 2016-09-30          20          1             0.0   \n",
       "786596  ffff347c3cfa 2016-08-17          21          0             0.0   \n",
       "786597  ffff347c3cfa 2016-09-15          21          0             0.0   \n",
       "786598  ffff4519b52d 2016-04-02          19          0             0.0   \n",
       "786599  ffffccbfc8a4 2015-05-30          20          0             0.0   \n",
       "\n",
       "        delivery_fee  amount_paid  restaurant_id  city_id  payment_id  \\\n",
       "0              0.000     11.46960        5803498    20326        1779   \n",
       "1              0.000      9.55800      239303498    76547        1619   \n",
       "2              0.493      5.93658      206463498    33833        1619   \n",
       "3              0.493      9.82350       36613498    99315        1619   \n",
       "4              0.493      5.15070      225853498    16456        1619   \n",
       "...              ...          ...            ...      ...         ...   \n",
       "786595         0.000     10.72620         983498    10346        1779   \n",
       "786596         0.000      7.59330       52893498    41978        1619   \n",
       "786597         0.000      5.94720      164653498    41978        1619   \n",
       "786598         0.000     21.77100       16363498    80562        1491   \n",
       "786599         0.000     16.46100      150293498    45952        1619   \n",
       "\n",
       "        platform_id  transmission_id  days_to_next_order  customer_order_rank  \n",
       "0             30231             4356                 NaN                    1  \n",
       "1             30359             4356                 NaN                    1  \n",
       "2             30359             4324                 NaN                    1  \n",
       "3             30359             4356                 NaN                    1  \n",
       "4             29463             4356                 NaN                    1  \n",
       "...             ...              ...                 ...                  ...  \n",
       "786595        29463              212                 NaN                    3  \n",
       "786596        30359             4356                29.0                    1  \n",
       "786597        30359             4356                 NaN                    2  \n",
       "786598        29751             4228                 NaN                    1  \n",
       "786599        29463             4324                 NaN                    1  \n",
       "\n",
       "[786600 rows x 14 columns]"
      ]
     },
     "execution_count": 6,
     "metadata": {},
     "output_type": "execute_result"
    }
   ],
   "source": [
    "#Calculating the target variable\n",
    "Data = CalculateTimeToNextOrder(Data, COUNT_FAILED_ORDERS)\n",
    "Data"
   ]
  },
  {
   "cell_type": "markdown",
   "metadata": {},
   "source": [
    "#### 1. Numerical Features"
   ]
  },
  {
   "cell_type": "code",
   "execution_count": 7,
   "metadata": {},
   "outputs": [
    {
     "data": {
      "text/html": [
       "<div>\n",
       "<style scoped>\n",
       "    .dataframe tbody tr th:only-of-type {\n",
       "        vertical-align: middle;\n",
       "    }\n",
       "\n",
       "    .dataframe tbody tr th {\n",
       "        vertical-align: top;\n",
       "    }\n",
       "\n",
       "    .dataframe thead th {\n",
       "        text-align: right;\n",
       "    }\n",
       "</style>\n",
       "<table border=\"1\" class=\"dataframe\">\n",
       "  <thead>\n",
       "    <tr style=\"text-align: right;\">\n",
       "      <th></th>\n",
       "      <th>order_hour</th>\n",
       "      <th>customer_order_rank</th>\n",
       "      <th>voucher_amount</th>\n",
       "      <th>delivery_fee</th>\n",
       "      <th>amount_paid</th>\n",
       "      <th>days_to_next_order</th>\n",
       "    </tr>\n",
       "  </thead>\n",
       "  <tbody>\n",
       "    <tr>\n",
       "      <th>count</th>\n",
       "      <td>786600.000000</td>\n",
       "      <td>786600.000000</td>\n",
       "      <td>786600.000000</td>\n",
       "      <td>786600.00000</td>\n",
       "      <td>786600.000000</td>\n",
       "      <td>541145.000000</td>\n",
       "    </tr>\n",
       "    <tr>\n",
       "      <th>mean</th>\n",
       "      <td>17.588796</td>\n",
       "      <td>9.803844</td>\n",
       "      <td>0.091489</td>\n",
       "      <td>0.18118</td>\n",
       "      <td>10.183271</td>\n",
       "      <td>38.416809</td>\n",
       "    </tr>\n",
       "    <tr>\n",
       "      <th>std</th>\n",
       "      <td>3.357192</td>\n",
       "      <td>18.471856</td>\n",
       "      <td>0.479558</td>\n",
       "      <td>0.36971</td>\n",
       "      <td>5.618121</td>\n",
       "      <td>72.909039</td>\n",
       "    </tr>\n",
       "    <tr>\n",
       "      <th>min</th>\n",
       "      <td>0.000000</td>\n",
       "      <td>1.000000</td>\n",
       "      <td>0.000000</td>\n",
       "      <td>0.00000</td>\n",
       "      <td>0.000000</td>\n",
       "      <td>0.000000</td>\n",
       "    </tr>\n",
       "    <tr>\n",
       "      <th>25%</th>\n",
       "      <td>16.000000</td>\n",
       "      <td>1.000000</td>\n",
       "      <td>0.000000</td>\n",
       "      <td>0.00000</td>\n",
       "      <td>6.648120</td>\n",
       "      <td>4.000000</td>\n",
       "    </tr>\n",
       "    <tr>\n",
       "      <th>50%</th>\n",
       "      <td>18.000000</td>\n",
       "      <td>3.000000</td>\n",
       "      <td>0.000000</td>\n",
       "      <td>0.00000</td>\n",
       "      <td>9.027000</td>\n",
       "      <td>12.000000</td>\n",
       "    </tr>\n",
       "    <tr>\n",
       "      <th>75%</th>\n",
       "      <td>20.000000</td>\n",
       "      <td>10.000000</td>\n",
       "      <td>0.000000</td>\n",
       "      <td>0.00000</td>\n",
       "      <td>12.213000</td>\n",
       "      <td>36.000000</td>\n",
       "    </tr>\n",
       "    <tr>\n",
       "      <th>max</th>\n",
       "      <td>23.000000</td>\n",
       "      <td>386.000000</td>\n",
       "      <td>93.398900</td>\n",
       "      <td>9.86000</td>\n",
       "      <td>1131.030000</td>\n",
       "      <td>1362.000000</td>\n",
       "    </tr>\n",
       "  </tbody>\n",
       "</table>\n",
       "</div>"
      ],
      "text/plain": [
       "          order_hour  customer_order_rank  voucher_amount  delivery_fee  \\\n",
       "count  786600.000000        786600.000000   786600.000000  786600.00000   \n",
       "mean       17.588796             9.803844        0.091489       0.18118   \n",
       "std         3.357192            18.471856        0.479558       0.36971   \n",
       "min         0.000000             1.000000        0.000000       0.00000   \n",
       "25%        16.000000             1.000000        0.000000       0.00000   \n",
       "50%        18.000000             3.000000        0.000000       0.00000   \n",
       "75%        20.000000            10.000000        0.000000       0.00000   \n",
       "max        23.000000           386.000000       93.398900       9.86000   \n",
       "\n",
       "         amount_paid  days_to_next_order  \n",
       "count  786600.000000       541145.000000  \n",
       "mean       10.183271           38.416809  \n",
       "std         5.618121           72.909039  \n",
       "min         0.000000            0.000000  \n",
       "25%         6.648120            4.000000  \n",
       "50%         9.027000           12.000000  \n",
       "75%        12.213000           36.000000  \n",
       "max      1131.030000         1362.000000  "
      ]
     },
     "execution_count": 7,
     "metadata": {},
     "output_type": "execute_result"
    }
   ],
   "source": [
    "#Features that are numeric in nature\n",
    "numeric_features = ['order_hour', 'customer_order_rank', 'voucher_amount', 'delivery_fee', 'amount_paid', 'days_to_next_order']\n",
    "\n",
    "#Checking for non-sensical values (e.g. negative values, order_hour>23, and so on.)\n",
    "Data[numeric_features].describe()\n",
    "#Outside order_hour, it seems we have long tails in the distributions"
   ]
  },
  {
   "cell_type": "code",
   "execution_count": 8,
   "metadata": {},
   "outputs": [
    {
     "data": {
      "text/plain": [
       "array([[<AxesSubplot:title={'center':'order_hour'}>,\n",
       "        <AxesSubplot:title={'center':'customer_order_rank'}>],\n",
       "       [<AxesSubplot:title={'center':'voucher_amount'}>,\n",
       "        <AxesSubplot:title={'center':'delivery_fee'}>],\n",
       "       [<AxesSubplot:title={'center':'amount_paid'}>,\n",
       "        <AxesSubplot:title={'center':'days_to_next_order'}>]],\n",
       "      dtype=object)"
      ]
     },
     "execution_count": 8,
     "metadata": {},
     "output_type": "execute_result"
    },
    {
     "data": {
      "image/png": "[encoded data removed]",
      "text/plain": [
       "<Figure size 1440x1440 with 6 Axes>"
      ]
     },
     "metadata": {
      "needs_background": "light"
     },
     "output_type": "display_data"
    }
   ],
   "source": [
    "#Checking the distribtutions of the variables\n",
    "Data[numeric_features].hist(bins=100, figsize=(20,20))\n",
    "#As expected from the statistics, long-tailed distributions are prevalent"
   ]
  },
  {
   "cell_type": "code",
   "execution_count": 9,
   "metadata": {},
   "outputs": [
    {
     "data": {
      "text/html": [
       "<div>\n",
       "<style scoped>\n",
       "    .dataframe tbody tr th:only-of-type {\n",
       "        vertical-align: middle;\n",
       "    }\n",
       "\n",
       "    .dataframe tbody tr th {\n",
       "        vertical-align: top;\n",
       "    }\n",
       "\n",
       "    .dataframe thead th {\n",
       "        text-align: right;\n",
       "    }\n",
       "</style>\n",
       "<table border=\"1\" class=\"dataframe\">\n",
       "  <thead>\n",
       "    <tr style=\"text-align: right;\">\n",
       "      <th></th>\n",
       "      <th>order_hour</th>\n",
       "      <th>customer_order_rank</th>\n",
       "      <th>voucher_amount</th>\n",
       "      <th>delivery_fee</th>\n",
       "      <th>amount_paid</th>\n",
       "      <th>days_to_next_order</th>\n",
       "    </tr>\n",
       "  </thead>\n",
       "  <tbody>\n",
       "    <tr>\n",
       "      <th>order_hour</th>\n",
       "      <td>1.000000</td>\n",
       "      <td>-0.023234</td>\n",
       "      <td>-0.007971</td>\n",
       "      <td>-0.007638</td>\n",
       "      <td>-0.015829</td>\n",
       "      <td>0.020275</td>\n",
       "    </tr>\n",
       "    <tr>\n",
       "      <th>customer_order_rank</th>\n",
       "      <td>-0.023234</td>\n",
       "      <td>1.000000</td>\n",
       "      <td>-0.027861</td>\n",
       "      <td>-0.005651</td>\n",
       "      <td>-0.066160</td>\n",
       "      <td>-0.194650</td>\n",
       "    </tr>\n",
       "    <tr>\n",
       "      <th>voucher_amount</th>\n",
       "      <td>-0.007971</td>\n",
       "      <td>-0.027861</td>\n",
       "      <td>1.000000</td>\n",
       "      <td>-0.014310</td>\n",
       "      <td>-0.143809</td>\n",
       "      <td>0.020593</td>\n",
       "    </tr>\n",
       "    <tr>\n",
       "      <th>delivery_fee</th>\n",
       "      <td>-0.007638</td>\n",
       "      <td>-0.005651</td>\n",
       "      <td>-0.014310</td>\n",
       "      <td>1.000000</td>\n",
       "      <td>0.112384</td>\n",
       "      <td>0.010084</td>\n",
       "    </tr>\n",
       "    <tr>\n",
       "      <th>amount_paid</th>\n",
       "      <td>-0.015829</td>\n",
       "      <td>-0.066160</td>\n",
       "      <td>-0.143809</td>\n",
       "      <td>0.112384</td>\n",
       "      <td>1.000000</td>\n",
       "      <td>0.041697</td>\n",
       "    </tr>\n",
       "    <tr>\n",
       "      <th>days_to_next_order</th>\n",
       "      <td>0.020275</td>\n",
       "      <td>-0.194650</td>\n",
       "      <td>0.020593</td>\n",
       "      <td>0.010084</td>\n",
       "      <td>0.041697</td>\n",
       "      <td>1.000000</td>\n",
       "    </tr>\n",
       "  </tbody>\n",
       "</table>\n",
       "</div>"
      ],
      "text/plain": [
       "                     order_hour  customer_order_rank  voucher_amount  \\\n",
       "order_hour             1.000000            -0.023234       -0.007971   \n",
       "customer_order_rank   -0.023234             1.000000       -0.027861   \n",
       "voucher_amount        -0.007971            -0.027861        1.000000   \n",
       "delivery_fee          -0.007638            -0.005651       -0.014310   \n",
       "amount_paid           -0.015829            -0.066160       -0.143809   \n",
       "days_to_next_order     0.020275            -0.194650        0.020593   \n",
       "\n",
       "                     delivery_fee  amount_paid  days_to_next_order  \n",
       "order_hour              -0.007638    -0.015829            0.020275  \n",
       "customer_order_rank     -0.005651    -0.066160           -0.194650  \n",
       "voucher_amount          -0.014310    -0.143809            0.020593  \n",
       "delivery_fee             1.000000     0.112384            0.010084  \n",
       "amount_paid              0.112384     1.000000            0.041697  \n",
       "days_to_next_order       0.010084     0.041697            1.000000  "
      ]
     },
     "execution_count": 9,
     "metadata": {},
     "output_type": "execute_result"
    }
   ],
   "source": [
    "#Checking for correlated variables\n",
    "Data[numeric_features].corr()\n",
    "#No obvious strong correlation"
   ]
  },
  {
   "cell_type": "markdown",
   "metadata": {},
   "source": [
    "#### 2. Categorical Features"
   ]
  },
  {
   "cell_type": "code",
   "execution_count": 10,
   "metadata": {},
   "outputs": [
    {
     "name": "stdout",
     "output_type": "stream",
     "text": [
      "Number of categories per variable:\n"
     ]
    },
    {
     "data": {
      "text/plain": [
       "customer_id        245455\n",
       "is_failed               2\n",
       "restaurant_id       13569\n",
       "city_id              3749\n",
       "payment_id              5\n",
       "platform_id            14\n",
       "transmission_id        10\n",
       "dtype: int64"
      ]
     },
     "execution_count": 10,
     "metadata": {},
     "output_type": "execute_result"
    }
   ],
   "source": [
    "cat_features = ['customer_id', 'is_failed', 'restaurant_id', 'city_id', 'payment_id', 'platform_id', 'transmission_id']\n",
    "\n",
    "print(\"Number of categories per variable:\")\n",
    "Data[cat_features].nunique()"
   ]
  },
  {
   "cell_type": "code",
   "execution_count": 11,
   "metadata": {},
   "outputs": [
    {
     "data": {
      "image/png": "[encoded data removed]",
      "text/plain": [
       "<Figure size 432x288 with 1 Axes>"
      ]
     },
     "metadata": {
      "needs_background": "light"
     },
     "output_type": "display_data"
    },
    {
     "data": {
      "image/png": "[encoded data removed]",
      "text/plain": [
       "<Figure size 432x288 with 1 Axes>"
      ]
     },
     "metadata": {
      "needs_background": "light"
     },
     "output_type": "display_data"
    },
    {
     "data": {
      "image/png": "[encoded data removed]",
      "text/plain": [
       "<Figure size 432x288 with 1 Axes>"
      ]
     },
     "metadata": {
      "needs_background": "light"
     },
     "output_type": "display_data"
    },
    {
     "data": {
      "image/png": "[encoded data removed]",
      "text/plain": [
       "<Figure size 432x288 with 1 Axes>"
      ]
     },
     "metadata": {
      "needs_background": "light"
     },
     "output_type": "display_data"
    }
   ],
   "source": [
    "#For features with reasonable number of categories, let's see the distributions\n",
    "for Column in  ['is_failed', 'payment_id', 'platform_id', 'transmission_id']:\n",
    "    plt.figure()\n",
    "    plt.title(Column)\n",
    "    Data[Column].value_counts().plot(kind='bar')\n",
    "\n",
    "#Also long-tailed, somehow."
   ]
  },
  {
   "cell_type": "markdown",
   "metadata": {},
   "source": [
    "#### 3. Time feature"
   ]
  },
  {
   "cell_type": "code",
   "execution_count": 12,
   "metadata": {},
   "outputs": [
    {
     "data": {
      "image/png": "[encoded data removed]",
      "text/plain": [
       "<Figure size 432x288 with 1 Axes>"
      ]
     },
     "metadata": {
      "needs_background": "light"
     },
     "output_type": "display_data"
    },
    {
     "data": {
      "image/png": "[encoded data removed]",
      "text/plain": [
       "<Figure size 432x288 with 1 Axes>"
      ]
     },
     "metadata": {
      "needs_background": "light"
     },
     "output_type": "display_data"
    },
    {
     "data": {
      "image/png": "[encoded data removed]",
      "text/plain": [
       "<Figure size 432x288 with 1 Axes>"
      ]
     },
     "metadata": {
      "needs_background": "light"
     },
     "output_type": "display_data"
    },
    {
     "data": {
      "image/png": "[encoded data removed]",
      "text/plain": [
       "<Figure size 432x288 with 1 Axes>"
      ]
     },
     "metadata": {
      "needs_background": "light"
     },
     "output_type": "display_data"
    }
   ],
   "source": [
    "#Before we do this, we have to breakdown extract some time features\n",
    "Data['day_of_month'] = Data.order_date.dt.day\n",
    "Data['day_of_week'] = Data.order_date.dt.weekday\n",
    "Data['month'] = Data.order_date.dt.month\n",
    "Data['year'] = Data.order_date.dt.year\n",
    "\n",
    "#And now let's check the distributions of our new variables\n",
    "for Column in  ['day_of_month', 'day_of_week', 'month', 'year']:\n",
    "    plt.figure()\n",
    "    plt.title(Column)\n",
    "    Data[Column].value_counts(sort = False).plot(kind='bar')"
   ]
  },
  {
   "cell_type": "markdown",
   "metadata": {},
   "source": [
    "The distributions look reasonable with a few notes:\n",
    "1. Really high relative number of orders on Sundays\n",
    "2. Seems the winter season generally has more orders\n",
    "3. We have few examples of data from before the starting date (should be discarded)"
   ]
  },
  {
   "cell_type": "code",
   "execution_count": null,
   "metadata": {},
   "outputs": [],
   "source": []
  }
 ],
 "metadata": {
  "kernelspec": {
   "display_name": "Python 3",
   "language": "python",
   "name": "python3"
  },
  "language_info": {
   "codemirror_mode": {
    "name": "ipython",
    "version": 3
   },
   "file_extension": ".py",
   "mimetype": "text/x-python",
   "name": "python",
   "nbconvert_exporter": "python",
   "pygments_lexer": "ipython3",
   "version": "3.7.4"
  }
 },
 "nbformat": 4,
 "nbformat_minor": 2
}
